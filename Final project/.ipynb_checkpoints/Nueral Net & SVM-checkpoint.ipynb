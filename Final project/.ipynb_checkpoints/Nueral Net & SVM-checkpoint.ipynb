{
 "cells": [
  {
   "cell_type": "code",
   "execution_count": 29,
   "metadata": {},
   "outputs": [],
   "source": [
    "from sklearn.decomposition import PCA\n",
    "from sklearn.model_selection import train_test_split\n",
    "from sklearn.svm import SVC\n",
    "from sklearn.preprocessing import StandardScaler\n",
    "from sklearn.metrics import classification_report, confusion_matrix, accuracy_score,make_scorer\n",
    "from tensorflow.keras.models import Sequential\n",
    "from tensorflow.keras.layers import Dropout, Dense\n",
    "from tensorflow.keras.activations import relu, sigmoid\n",
    "import pandas as pd\n",
    "import numpy as np\n",
    "\n",
    "import matplotlib.pylab as plt\n",
    "%matplotlib inline\n",
    "np.random.seed(1234)"
   ]
  },
  {
   "cell_type": "markdown",
   "metadata": {},
   "source": [
    "After we have added all libraries, we will split the data into the associated x and y sets"
   ]
  },
  {
   "cell_type": "code",
   "execution_count": 30,
   "metadata": {},
   "outputs": [],
   "source": [
    "speech_features = pd.read_csv(\"pd_speech_features.csv\", header=1)\n",
    "num_ids = speech_features[\"id\"].max()\n",
    "rows = []\n",
    "#average all the trials per participant id\n",
    "for i in range(num_ids):\n",
    "    id_vals = speech_features[speech_features[\"id\"]==i]\n",
    "    id_mean = id_vals.mean(axis=0)\n",
    "    rows.append(id_mean)\n",
    "\n",
    "speech_features = pd.DataFrame(rows, columns=speech_features.columns)\n",
    "y = speech_features[\"class\"]\n",
    "X = speech_features.drop(columns=[\"class\", \"id\"])"
   ]
  },
  {
   "cell_type": "markdown",
   "metadata": {},
   "source": [
    "Next we will split to train and test sets so we can validate for accuracy"
   ]
  },
  {
   "cell_type": "code",
   "execution_count": 31,
   "metadata": {},
   "outputs": [
    {
     "name": "stdout",
     "output_type": "stream",
     "text": [
      "Train Shape: X  (200, 753)  y  (200,)\n",
      "Val Shape: X  (51, 753)  y  (51,)\n"
     ]
    }
   ],
   "source": [
    "X_trn, X_test, y_trn, y_test = train_test_split(X,y, test_size=.20, stratify=y, shuffle=True)\n",
    "print(\"Train Shape: X \", X_trn.shape, \" y \", y_trn.shape)\n",
    "print(\"Val Shape: X \", X_test.shape, \" y \", y_test.shape)"
   ]
  },
  {
   "cell_type": "markdown",
   "metadata": {},
   "source": [
    "This will try to run the data through a nueral network with an architecture of 512 nuerons on the first layer and 128 in the middle layer, outputting a 0 or 1 for classification"
   ]
  },
  {
   "cell_type": "code",
   "execution_count": 32,
   "metadata": {},
   "outputs": [
    {
     "name": "stdout",
     "output_type": "stream",
     "text": [
      "Train on 200 samples, validate on 51 samples\n",
      "Epoch 1/10\n",
      "200/200 [==============================] - 1s 6ms/sample - loss: 142237506.0000 - accuracy: 0.6400 - val_loss: 73903325.4118 - val_accuracy: 0.2549\n",
      "Epoch 2/10\n",
      "200/200 [==============================] - 0s 787us/sample - loss: 34340383.5400 - accuracy: 0.6300 - val_loss: 18652844.7059 - val_accuracy: 0.7451\n",
      "Epoch 3/10\n",
      "200/200 [==============================] - 0s 578us/sample - loss: 15167087.9000 - accuracy: 0.5300 - val_loss: 85063538.8235 - val_accuracy: 0.7451\n",
      "Epoch 4/10\n",
      "200/200 [==============================] - 0s 545us/sample - loss: 50876919.5700 - accuracy: 0.6600 - val_loss: 65124154.3529 - val_accuracy: 0.2549\n",
      "Epoch 5/10\n",
      "200/200 [==============================] - 0s 691us/sample - loss: 27704308.7300 - accuracy: 0.6100 - val_loss: 27747711.2353 - val_accuracy: 0.2549\n",
      "Epoch 6/10\n",
      "200/200 [==============================] - 0s 634us/sample - loss: 27269551.9800 - accuracy: 0.6200 - val_loss: 15932374.1471 - val_accuracy: 0.2549\n",
      "Epoch 7/10\n",
      "200/200 [==============================] - 0s 570us/sample - loss: 30102802.4400 - accuracy: 0.6100 - val_loss: 26194124.8824 - val_accuracy: 0.2549\n",
      "Epoch 8/10\n",
      "200/200 [==============================] - 0s 498us/sample - loss: 36267463.1600 - accuracy: 0.5600 - val_loss: 578340.4191 - val_accuracy: 0.7255\n",
      "Epoch 9/10\n",
      "200/200 [==============================] - 0s 389us/sample - loss: 16435500.3425 - accuracy: 0.6000 - val_loss: 41855999.0588 - val_accuracy: 0.7451\n",
      "Epoch 10/10\n",
      "200/200 [==============================] - 0s 558us/sample - loss: 15992684.3750 - accuracy: 0.5800 - val_loss: 2138317.6176 - val_accuracy: 0.7255\n"
     ]
    },
    {
     "data": {
      "text/plain": [
       "<tensorflow.python.keras.callbacks.History at 0x18d0464a288>"
      ]
     },
     "execution_count": 32,
     "metadata": {},
     "output_type": "execute_result"
    }
   ],
   "source": [
    "model = Sequential()\n",
    "model.add(Dense(512, input_shape=(X_trn.shape[1],), activation=relu))\n",
    "model.add(Dense(128, activation=relu))\n",
    "model.add(Dense(1, activation=sigmoid))\n",
    "\n",
    "model.compile(optimizer='adam', loss='binary_crossentropy', metrics = ['accuracy'])\n",
    "model.fit(X_trn, y_trn, validation_data=(X_test, y_test), epochs=10, batch_size=24)"
   ]
  },
  {
   "cell_type": "markdown",
   "metadata": {},
   "source": [
    "The validation accuracy is kind of all over the place and train accuracy doesn't really decrease the loss much after every epoch so nueral network may not be a good fit, or some of the features aren't very indicative of parkinsons so it is making a skewed judgement."
   ]
  },
  {
   "cell_type": "code",
   "execution_count": 33,
   "metadata": {},
   "outputs": [
    {
     "name": "stdout",
     "output_type": "stream",
     "text": [
      "0.7450980392156863\n",
      "              precision    recall  f1-score   support\n",
      "\n",
      "         0.0       0.00      0.00      0.00         0\n",
      "         1.0       1.00      0.75      0.85        51\n",
      "\n",
      "    accuracy                           0.75        51\n",
      "   macro avg       0.50      0.37      0.43        51\n",
      "weighted avg       1.00      0.75      0.85        51\n",
      "\n"
     ]
    },
    {
     "name": "stderr",
     "output_type": "stream",
     "text": [
      "C:\\Users\\ean10\\Anaconda3\\lib\\site-packages\\sklearn\\metrics\\_classification.py:1272: UndefinedMetricWarning: Recall and F-score are ill-defined and being set to 0.0 in labels with no true samples. Use `zero_division` parameter to control this behavior.\n",
      "  _warn_prf(average, modifier, msg_start, len(result))\n"
     ]
    }
   ],
   "source": [
    "clf = SVC().fit(X_trn, y_trn)\n",
    "print(clf.score(X_test, y_test))\n",
    "print(classification_report(clf.predict(X_test), y_test))"
   ]
  },
  {
   "cell_type": "code",
   "execution_count": 38,
   "metadata": {},
   "outputs": [
    {
     "name": "stdout",
     "output_type": "stream",
     "text": [
      "Before PCA, number of features is:  753\n",
      "After PCA, number of features is:  171\n"
     ]
    }
   ],
   "source": [
    "X = StandardScaler().fit_transform(X)\n",
    "pca = PCA(n_components=.99, svd_solver='full')\n",
    "print(\"Before PCA, number of features is: \", X.shape[1])\n",
    "X_new = pca.fit_transform(X)\n",
    "X_trn, X_test, y_trn, y_test = train_test_split(X_new, y, test_size=.20, stratify=y)\n",
    "print(\"After PCA, number of features is: \", X_new.shape[1])\n",
    "totals = np.cumsum(pca.explained_variance_ratio_)\n",
    "expl_var = pca.explained_variance_ratio_"
   ]
  },
  {
   "cell_type": "code",
   "execution_count": 40,
   "metadata": {},
   "outputs": [
    {
     "data": {
      "text/plain": [
       "Text(0.5, 1.0, 'Explained Variance So Far')"
      ]
     },
     "execution_count": 40,
     "metadata": {},
     "output_type": "execute_result"
    },
    {
     "data": {
      "image/png": "[encoded data removed]",
      "text/plain": [
       "<Figure size 432x288 with 1 Axes>"
      ]
     },
     "metadata": {
      "needs_background": "light"
     },
     "output_type": "display_data"
    }
   ],
   "source": [
    "plt.plot(totals)\n",
    "plt.title(\"Explained Variance So Far\")"
   ]
  },
  {
   "cell_type": "code",
   "execution_count": 41,
   "metadata": {},
   "outputs": [
    {
     "data": {
      "text/plain": [
       "Text(0.5, 1.0, 'Explained Var Per Feature')"
      ]
     },
     "execution_count": 41,
     "metadata": {},
     "output_type": "execute_result"
    },
    {
     "data": {
      "image/png": "[encoded data removed]",
      "text/plain": [
       "<Figure size 432x288 with 1 Axes>"
      ]
     },
     "metadata": {
      "needs_background": "light"
     },
     "output_type": "display_data"
    }
   ],
   "source": [
    "plt.plot(expl_var)\n",
    "plt.title(\"Explained Var Per Feature\")"
   ]
  },
  {
   "cell_type": "markdown",
   "metadata": {},
   "source": [
    "This shows that 171 features out of the 752 hold 99% of the variance of all features."
   ]
  },
  {
   "cell_type": "code",
   "execution_count": 42,
   "metadata": {},
   "outputs": [
    {
     "name": "stdout",
     "output_type": "stream",
     "text": [
      "0.803921568627451\n",
      "              precision    recall  f1-score   support\n",
      "\n",
      "         0.0       0.23      1.00      0.38         3\n",
      "         1.0       1.00      0.79      0.88        48\n",
      "\n",
      "    accuracy                           0.80        51\n",
      "   macro avg       0.62      0.90      0.63        51\n",
      "weighted avg       0.95      0.80      0.85        51\n",
      "\n"
     ]
    }
   ],
   "source": [
    "clf = SVC().fit(X_trn, y_trn)\n",
    "print(clf.score(X_test, y_test))\n",
    "print(classification_report(clf.predict(X_test), y_test))"
   ]
  },
  {
   "cell_type": "markdown",
   "metadata": {},
   "source": [
    "As you can see, an SCV trained on all 753 features achieves less accuracy than one trained on 171"
   ]
  },
  {
   "cell_type": "code",
   "execution_count": 24,
   "metadata": {},
   "outputs": [
    {
     "name": "stdout",
     "output_type": "stream",
     "text": [
      "Train on 200 samples, validate on 51 samples\n",
      "Epoch 1/5\n",
      "200/200 [==============================] - 1s 6ms/sample - loss: 0.5628 - accuracy: 0.7500 - val_loss: 0.4487 - val_accuracy: 0.8431\n",
      "Epoch 2/5\n",
      "200/200 [==============================] - 0s 479us/sample - loss: 0.1703 - accuracy: 0.9400 - val_loss: 0.4255 - val_accuracy: 0.7843\n",
      "Epoch 3/5\n",
      "200/200 [==============================] - 0s 476us/sample - loss: 0.0713 - accuracy: 1.0000 - val_loss: 0.3814 - val_accuracy: 0.8039\n",
      "Epoch 4/5\n",
      "200/200 [==============================] - 0s 548us/sample - loss: 0.0307 - accuracy: 1.0000 - val_loss: 0.4181 - val_accuracy: 0.8431\n",
      "Epoch 5/5\n",
      "200/200 [==============================] - 0s 645us/sample - loss: 0.0172 - accuracy: 1.0000 - val_loss: 0.4097 - val_accuracy: 0.8235\n"
     ]
    },
    {
     "data": {
      "text/plain": [
       "<tensorflow.python.keras.callbacks.History at 0x18d03e76188>"
      ]
     },
     "execution_count": 24,
     "metadata": {},
     "output_type": "execute_result"
    }
   ],
   "source": [
    "model = Sequential()\n",
    "model.add(Dense(512, input_shape=(X_trn.shape[1],), activation=relu))\n",
    "model.add(Dense(128, activation=relu))\n",
    "model.add(Dense(1, activation=sigmoid))\n",
    "\n",
    "model.compile(optimizer='adam', loss='binary_crossentropy', metrics = ['accuracy'])\n",
    "model.fit(X_trn, y_trn, validation_data=(X_test, y_test), epochs=5, batch_size=24)"
   ]
  },
  {
   "cell_type": "markdown",
   "metadata": {},
   "source": [
    "This also results in a higher train accuracy than that from the nueral network above"
   ]
  }
 ],
 "metadata": {
  "kernelspec": {
   "display_name": "Python 3",
   "language": "python",
   "name": "python3"
  },
  "language_info": {
   "codemirror_mode": {
    "name": "ipython",
    "version": 3
   },
   "file_extension": ".py",
   "mimetype": "text/x-python",
   "name": "python",
   "nbconvert_exporter": "python",
   "pygments_lexer": "ipython3",
   "version": "3.7.4"
  }
 },
 "nbformat": 4,
 "nbformat_minor": 4
}
