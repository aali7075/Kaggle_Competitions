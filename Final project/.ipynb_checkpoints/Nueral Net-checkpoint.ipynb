{
 "cells": [
  {
   "cell_type": "code",
   "execution_count": 3,
   "metadata": {},
   "outputs": [],
   "source": [
    "from sklearn.decomposition import PCA\n",
    "from sklearn.model_selection import train_test_split\n",
    "from sklearn.svm import SVC\n",
    "from tensorflow.keras.models import Sequential\n",
    "from tensorflow.keras.layers import Dropout, Dense\n",
    "from tensorflow.keras.activations import relu, sigmoid\n",
    "import pandas as pd\n",
    "import numpy as np\n",
    "\n",
    "np.random.seed(1234)"
   ]
  },
  {
   "cell_type": "markdown",
   "metadata": {},
   "source": [
    "After we have added all libraries, we will split the data into the associated x and y sets"
   ]
  },
  {
   "cell_type": "code",
   "execution_count": 21,
   "metadata": {},
   "outputs": [],
   "source": [
    "speech_features = pd.read_csv(\"pd_speech_features.csv\", header=1)\n",
    "num_ids = speech_features[\"id\"].max()\n",
    "rows = []\n",
    "#average all the trials per participant id\n",
    "for i in range(num_ids):\n",
    "    id_vals = speech_features[speech_features[\"id\"]==i]\n",
    "    id_mean = id_vals.mean(axis=0)\n",
    "    rows.append(id_mean)\n",
    "\n",
    "speech_features = pd.DataFrame(rows, columns=speech_features.columns)\n",
    "y = speech_features[\"class\"]\n",
    "X = speech_features.drop(columns=[\"class\", \"id\"])"
   ]
  },
  {
   "cell_type": "markdown",
   "metadata": {},
   "source": [
    "Next we will split to train and test sets so we can validate for accuracy"
   ]
  },
  {
   "cell_type": "code",
   "execution_count": 22,
   "metadata": {},
   "outputs": [
    {
     "name": "stdout",
     "output_type": "stream",
     "text": [
      "Train Shape: X  (200, 753)  y  (200,)\n",
      "Val Shape: X  (51, 753)  y  (51,)\n"
     ]
    }
   ],
   "source": [
    "X_trn, X_test, y_trn, y_test = train_test_split(X,y, test_size=.20, stratify=y, shuffle=True)\n",
    "print(\"Train Shape: X \", X_trn.shape, \" y \", y_trn.shape)\n",
    "print(\"Val Shape: X \", X_test.shape, \" y \", y_test.shape)"
   ]
  },
  {
   "cell_type": "markdown",
   "metadata": {},
   "source": [
    "This will try to run the data through a nueral network with an architecture of 512 nuerons on the first layer and 128 in the middle layer, outputting a 0 or 1 for classification"
   ]
  },
  {
   "cell_type": "code",
   "execution_count": 24,
   "metadata": {},
   "outputs": [
    {
     "name": "stdout",
     "output_type": "stream",
     "text": [
      "Train on 200 samples, validate on 51 samples\n",
      "Epoch 1/10\n",
      "200/200 [==============================] - 1s 5ms/sample - loss: 193096075.3225 - accuracy: 0.5300 - val_loss: 65043045.4118 - val_accuracy: 0.2549\n",
      "Epoch 2/10\n",
      "200/200 [==============================] - 0s 377us/sample - loss: 136812182.0800 - accuracy: 0.6800 - val_loss: 48289685.1765 - val_accuracy: 0.7451\n",
      "Epoch 3/10\n",
      "200/200 [==============================] - 0s 399us/sample - loss: 101589536.0312 - accuracy: 0.4400 - val_loss: 56408542.1176 - val_accuracy: 0.7451\n",
      "Epoch 4/10\n",
      "200/200 [==============================] - 0s 404us/sample - loss: 58845547.4400 - accuracy: 0.6800 - val_loss: 34457913.4706 - val_accuracy: 0.2549\n",
      "Epoch 5/10\n",
      "200/200 [==============================] - 0s 404us/sample - loss: 13815168.0400 - accuracy: 0.6200 - val_loss: 18626829.1765 - val_accuracy: 0.7451\n",
      "Epoch 6/10\n",
      "200/200 [==============================] - 0s 379us/sample - loss: 14039070.6800 - accuracy: 0.6400 - val_loss: 20827757.7941 - val_accuracy: 0.2549\n",
      "Epoch 7/10\n",
      "200/200 [==============================] - 0s 369us/sample - loss: 8222741.2988 - accuracy: 0.5800 - val_loss: 135869.6847 - val_accuracy: 0.7647\n",
      "Epoch 8/10\n",
      "200/200 [==============================] - 0s 404us/sample - loss: 19022473.6100 - accuracy: 0.6600 - val_loss: 19038622.6765 - val_accuracy: 0.2549\n",
      "Epoch 9/10\n",
      "200/200 [==============================] - 0s 414us/sample - loss: 18474283.9400 - accuracy: 0.5000 - val_loss: 6516064.8235 - val_accuracy: 0.7451\n",
      "Epoch 10/10\n",
      "200/200 [==============================] - 0s 404us/sample - loss: 10887041.5800 - accuracy: 0.5700 - val_loss: 12494268.1176 - val_accuracy: 0.7451\n"
     ]
    },
    {
     "data": {
      "text/plain": [
       "<tensorflow.python.keras.callbacks.History at 0x21640474e48>"
      ]
     },
     "execution_count": 24,
     "metadata": {},
     "output_type": "execute_result"
    }
   ],
   "source": [
    "model = Sequential()\n",
    "model.add(Dense(512, input_shape=(X_trn.shape[1],), activation=relu))\n",
    "model.add(Dense(128, activation=relu))\n",
    "model.add(Dense(1, activation=sigmoid))\n",
    "\n",
    "model.compile(optimizer='adam', loss='binary_crossentropy', metrics = ['accuracy'])\n",
    "model.fit(X_trn, y_trn, validation_data=(X_test, y_test), epochs=10, batch_size=24)"
   ]
  },
  {
   "cell_type": "markdown",
   "metadata": {},
   "source": [
    "The validation accuracy is kind of all over the place and train accuracy doesn't really decrease the loss much after every epoch so nueral network may not be a good fit, or some of the features aren't very indicative of parkinsons so it is making a skewed judgement."
   ]
  },
  {
   "cell_type": "code",
   "execution_count": 25,
   "metadata": {},
   "outputs": [
    {
     "name": "stdout",
     "output_type": "stream",
     "text": [
      "0.7058823529411765\n"
     ]
    }
   ],
   "source": [
    "clf = SVC().fit(X_trn, y_trn)\n",
    "print(clf.score(X_test, y_test))"
   ]
  },
  {
   "cell_type": "code",
   "execution_count": 26,
   "metadata": {},
   "outputs": [
    {
     "name": "stdout",
     "output_type": "stream",
     "text": [
      "Before PCA, number of features is:  753\n",
      "After PCA, number of features is:  3\n"
     ]
    },
    {
     "data": {
      "text/plain": [
       "array([9.99990443e-01, 7.54056562e-06, 1.59136283e-06])"
      ]
     },
     "execution_count": 26,
     "metadata": {},
     "output_type": "execute_result"
    }
   ],
   "source": [
    "pca = PCA(n_components=3, svd_solver='full')\n",
    "print(\"Before PCA, number of features is: \", X.shape[1])\n",
    "X_new = pca.fit_transform(X)\n",
    "X_trn, X_test, y_trn, y_test = train_test_split(X_new, y, test_size=.20, stratify=y)\n",
    "print(\"After PCA, number of features is: \", X_new.shape[1])\n",
    "pca.explained_variance_ratio_"
   ]
  },
  {
   "cell_type": "markdown",
   "metadata": {},
   "source": [
    "This shows that one feature out of the 752 hold 99.998% of the variance of all features."
   ]
  },
  {
   "cell_type": "code",
   "execution_count": 28,
   "metadata": {},
   "outputs": [
    {
     "name": "stdout",
     "output_type": "stream",
     "text": [
      "0.7254901960784313\n"
     ]
    }
   ],
   "source": [
    "clf = SVC().fit(X_trn, y_trn)\n",
    "print(clf.score(X_test, y_test))"
   ]
  },
  {
   "cell_type": "markdown",
   "metadata": {},
   "source": [
    "As you can see, an SCV trained on all 753 features achieves around the same accuracy as an SVC with 3 features"
   ]
  },
  {
   "cell_type": "code",
   "execution_count": 32,
   "metadata": {},
   "outputs": [
    {
     "name": "stdout",
     "output_type": "stream",
     "text": [
      "Train on 200 samples, validate on 51 samples\n",
      "Epoch 1/10\n",
      "200/200 [==============================] - 1s 6ms/sample - loss: 58326053.0400 - accuracy: 0.6850 - val_loss: 27644598.1765 - val_accuracy: 0.6471\n",
      "Epoch 2/10\n",
      "200/200 [==============================] - 0s 274us/sample - loss: 24927180.3600 - accuracy: 0.6200 - val_loss: 67719533.6471 - val_accuracy: 0.7451\n",
      "Epoch 3/10\n",
      "200/200 [==============================] - 0s 284us/sample - loss: 41579184.1600 - accuracy: 0.6450 - val_loss: 30788373.4118 - val_accuracy: 0.7451\n",
      "Epoch 4/10\n",
      "200/200 [==============================] - 0s 299us/sample - loss: 20819587.7000 - accuracy: 0.6500 - val_loss: 25837874.8235 - val_accuracy: 0.2549\n",
      "Epoch 5/10\n",
      "200/200 [==============================] - 0s 328us/sample - loss: 27186674.4600 - accuracy: 0.6700 - val_loss: 27742617.0588 - val_accuracy: 0.6667\n",
      "Epoch 6/10\n",
      "200/200 [==============================] - 0s 311us/sample - loss: 14290841.3100 - accuracy: 0.6400 - val_loss: 7606535.0588 - val_accuracy: 0.7451\n",
      "Epoch 7/10\n",
      "200/200 [==============================] - 0s 287us/sample - loss: 24343413.2800 - accuracy: 0.6250 - val_loss: 44977327.5294 - val_accuracy: 0.7451\n",
      "Epoch 8/10\n",
      "200/200 [==============================] - 0s 284us/sample - loss: 38244474.4000 - accuracy: 0.5950 - val_loss: 43964817.8824 - val_accuracy: 0.7451\n",
      "Epoch 9/10\n",
      "200/200 [==============================] - 0s 287us/sample - loss: 27323085.1300 - accuracy: 0.6000 - val_loss: 9430078.3529 - val_accuracy: 0.7451\n",
      "Epoch 10/10\n",
      "200/200 [==============================] - 0s 299us/sample - loss: 13246942.6800 - accuracy: 0.5950 - val_loss: 20628688.4118 - val_accuracy: 0.6471\n"
     ]
    },
    {
     "data": {
      "text/plain": [
       "<tensorflow.python.keras.callbacks.History at 0x21642f12388>"
      ]
     },
     "execution_count": 32,
     "metadata": {},
     "output_type": "execute_result"
    }
   ],
   "source": [
    "model = Sequential()\n",
    "model.add(Dense(512, input_shape=(X_trn.shape[1],), activation=relu))\n",
    "model.add(Dense(128, activation=relu))\n",
    "model.add(Dense(1, activation=sigmoid))\n",
    "\n",
    "model.compile(optimizer='adam', loss='binary_crossentropy', metrics = ['accuracy'])\n",
    "model.fit(X_trn, y_trn, validation_data=(X_test, y_test), epochs=10, batch_size=24)"
   ]
  },
  {
   "cell_type": "markdown",
   "metadata": {},
   "source": [
    "This also results in a slightly higher train accuracy than that from the nueral network above"
   ]
  }
 ],
 "metadata": {
  "kernelspec": {
   "display_name": "Python 3",
   "language": "python",
   "name": "python3"
  },
  "language_info": {
   "codemirror_mode": {
    "name": "ipython",
    "version": 3
   },
   "file_extension": ".py",
   "mimetype": "text/x-python",
   "name": "python",
   "nbconvert_exporter": "python",
   "pygments_lexer": "ipython3",
   "version": "3.7.4"
  }
 },
 "nbformat": 4,
 "nbformat_minor": 4
}
