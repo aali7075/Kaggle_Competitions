{
 "cells": [
  {
   "cell_type": "code",
   "execution_count": 45,
   "metadata": {},
   "outputs": [],
   "source": [
<<<<<<< HEAD
    "from sklearn.ensemble import AdaBoostRegressor\n"
=======
    "from sklearn.ensemble import AdaBoostRegressor\n",
    "import pandas as pd\n",
    "import numpy as np\n",
    "from sklearn.model_selection import train_test_split\n",
    "from sklearn.metrics import mean_squared_error"
>>>>>>> 1b567b6ebaaa78797a263c58273558ef59942c19
   ]
  },
  {
   "cell_type": "code",
   "execution_count": 41,
   "metadata": {},
   "outputs": [],
   "source": [
    "train = pd.read_csv(\"train_data.csv\")\n",
    "val = pd.read_csv(\"val_data.csv\")\n",
    "x = train.drop(columns = [\"id\", \"price\", \"date\",x.columns[0]], axis = 1)\n",
    "y = train[\"price\"]\n",
    "x, x_test, y, y_test = train_test_split(x, y, test_size = .25)"
   ]
  },
  {
   "cell_type": "code",
   "execution_count": 37,
   "metadata": {},
   "outputs": [
    {
     "data": {
      "text/html": [
       "<div>\n",
       "<style scoped>\n",
       "    .dataframe tbody tr th:only-of-type {\n",
       "        vertical-align: middle;\n",
       "    }\n",
       "\n",
       "    .dataframe tbody tr th {\n",
       "        vertical-align: top;\n",
       "    }\n",
       "\n",
       "    .dataframe thead th {\n",
       "        text-align: right;\n",
       "    }\n",
       "</style>\n",
       "<table border=\"1\" class=\"dataframe\">\n",
       "  <thead>\n",
       "    <tr style=\"text-align: right;\">\n",
       "      <th></th>\n",
       "      <th>Unnamed: 0</th>\n",
       "      <th>bathrooms</th>\n",
       "      <th>sqft_living</th>\n",
       "      <th>sqft_lot</th>\n",
       "      <th>floors</th>\n",
       "      <th>waterfront</th>\n",
       "      <th>view</th>\n",
       "      <th>condition</th>\n",
       "      <th>grade</th>\n",
       "      <th>sqft_above</th>\n",
       "      <th>sqft_basement</th>\n",
       "      <th>yr_built</th>\n",
       "      <th>yr_renovated</th>\n",
       "      <th>zipcode</th>\n",
       "      <th>lat</th>\n",
       "      <th>long</th>\n",
       "      <th>sqft_living15</th>\n",
       "      <th>sqft_lot15</th>\n",
       "    </tr>\n",
       "  </thead>\n",
       "  <tbody>\n",
       "    <tr>\n",
       "      <td>9199</td>\n",
       "      <td>20974</td>\n",
       "      <td>2.5</td>\n",
       "      <td>2780</td>\n",
       "      <td>275033</td>\n",
       "      <td>1.0</td>\n",
       "      <td>0</td>\n",
       "      <td>0</td>\n",
       "      <td>3</td>\n",
       "      <td>10</td>\n",
       "      <td>2780</td>\n",
       "      <td>0</td>\n",
       "      <td>2006</td>\n",
       "      <td>0</td>\n",
       "      <td>98045</td>\n",
       "      <td>47.4496</td>\n",
       "      <td>-121.766</td>\n",
       "      <td>1680</td>\n",
       "      <td>16340</td>\n",
       "    </tr>\n",
       "    <tr>\n",
       "      <td>4985</td>\n",
       "      <td>922</td>\n",
       "      <td>1.5</td>\n",
       "      <td>1340</td>\n",
       "      <td>8450</td>\n",
       "      <td>1.0</td>\n",
       "      <td>0</td>\n",
       "      <td>0</td>\n",
       "      <td>4</td>\n",
       "      <td>7</td>\n",
       "      <td>1340</td>\n",
       "      <td>0</td>\n",
       "      <td>1958</td>\n",
       "      <td>0</td>\n",
       "      <td>98188</td>\n",
       "      <td>47.4405</td>\n",
       "      <td>-122.280</td>\n",
       "      <td>1340</td>\n",
       "      <td>8920</td>\n",
       "    </tr>\n",
       "    <tr>\n",
       "      <td>6610</td>\n",
       "      <td>18283</td>\n",
       "      <td>1.5</td>\n",
       "      <td>830</td>\n",
       "      <td>1241</td>\n",
       "      <td>2.0</td>\n",
       "      <td>0</td>\n",
       "      <td>0</td>\n",
       "      <td>3</td>\n",
       "      <td>7</td>\n",
       "      <td>830</td>\n",
       "      <td>0</td>\n",
       "      <td>2005</td>\n",
       "      <td>0</td>\n",
       "      <td>98119</td>\n",
       "      <td>47.6363</td>\n",
       "      <td>-122.368</td>\n",
       "      <td>1610</td>\n",
       "      <td>2666</td>\n",
       "    </tr>\n",
       "    <tr>\n",
       "      <td>14500</td>\n",
       "      <td>8905</td>\n",
       "      <td>3.0</td>\n",
       "      <td>2750</td>\n",
       "      <td>3800</td>\n",
       "      <td>1.5</td>\n",
       "      <td>0</td>\n",
       "      <td>0</td>\n",
       "      <td>5</td>\n",
       "      <td>7</td>\n",
       "      <td>1750</td>\n",
       "      <td>1000</td>\n",
       "      <td>1926</td>\n",
       "      <td>0</td>\n",
       "      <td>98115</td>\n",
       "      <td>47.6845</td>\n",
       "      <td>-122.313</td>\n",
       "      <td>1900</td>\n",
       "      <td>3800</td>\n",
       "    </tr>\n",
       "    <tr>\n",
       "      <td>13032</td>\n",
       "      <td>9674</td>\n",
       "      <td>1.0</td>\n",
       "      <td>1290</td>\n",
       "      <td>5440</td>\n",
       "      <td>1.0</td>\n",
       "      <td>0</td>\n",
       "      <td>0</td>\n",
       "      <td>4</td>\n",
       "      <td>6</td>\n",
       "      <td>790</td>\n",
       "      <td>500</td>\n",
       "      <td>1929</td>\n",
       "      <td>0</td>\n",
       "      <td>98117</td>\n",
       "      <td>47.6951</td>\n",
       "      <td>-122.367</td>\n",
       "      <td>1220</td>\n",
       "      <td>5464</td>\n",
       "    </tr>\n",
       "  </tbody>\n",
       "</table>\n",
       "</div>"
      ],
      "text/plain": [
       "       Unnamed: 0  bathrooms  sqft_living  sqft_lot  floors  waterfront  view  \\\n",
       "9199        20974        2.5         2780    275033     1.0           0     0   \n",
       "4985          922        1.5         1340      8450     1.0           0     0   \n",
       "6610        18283        1.5          830      1241     2.0           0     0   \n",
       "14500        8905        3.0         2750      3800     1.5           0     0   \n",
       "13032        9674        1.0         1290      5440     1.0           0     0   \n",
       "\n",
       "       condition  grade  sqft_above  sqft_basement  yr_built  yr_renovated  \\\n",
       "9199           3     10        2780              0      2006             0   \n",
       "4985           4      7        1340              0      1958             0   \n",
       "6610           3      7         830              0      2005             0   \n",
       "14500          5      7        1750           1000      1926             0   \n",
       "13032          4      6         790            500      1929             0   \n",
       "\n",
       "       zipcode      lat     long  sqft_living15  sqft_lot15  \n",
       "9199     98045  47.4496 -121.766           1680       16340  \n",
       "4985     98188  47.4405 -122.280           1340        8920  \n",
       "6610     98119  47.6363 -122.368           1610        2666  \n",
       "14500    98115  47.6845 -122.313           1900        3800  \n",
       "13032    98117  47.6951 -122.367           1220        5464  "
      ]
     },
     "execution_count": 37,
     "metadata": {},
     "output_type": "execute_result"
    }
   ],
   "source": [
    "x.head()"
   ]
  },
  {
   "cell_type": "code",
   "execution_count": 42,
   "metadata": {},
   "outputs": [
    {
     "data": {
      "text/plain": [
       "AdaBoostRegressor(base_estimator=None, learning_rate=1.0, loss='square',\n",
       "                  n_estimators=100, random_state=0)"
      ]
     },
     "execution_count": 42,
     "metadata": {},
     "output_type": "execute_result"
    }
   ],
   "source": [
    "regr = AdaBoostRegressor(random_state=0, n_estimators=100, loss = \"square\")\n",
    "regr.fit(x,y)"
   ]
  },
  {
   "cell_type": "code",
   "execution_count": 43,
   "metadata": {},
   "outputs": [
    {
     "name": "stdout",
     "output_type": "stream",
     "text": [
      "Most important feature is  grade\n"
     ]
    }
   ],
   "source": [
    "feature_names= x.columns\n",
    "feature_dict = { feature_names[i]: regr.feature_importances_[i] for i in range(len(feature_names))}\n",
    "print(\"Most important feature is \", max(feature_dict, key=feature_dict.get))"
   ]
  },
  {
   "cell_type": "code",
   "execution_count": 46,
   "metadata": {},
   "outputs": [
    {
     "data": {
      "text/plain": [
       "123894145888.71649"
      ]
     },
     "execution_count": 46,
     "metadata": {},
     "output_type": "execute_result"
    }
   ],
   "source": [
    "y_pred = regr.predict(x_test)\n",
    "mean_squared_error(y_test, y_pred)"
   ]
  }
 ],
 "metadata": {
  "kernelspec": {
   "display_name": "Python 3",
   "language": "python",
   "name": "python3"
  },
  "language_info": {
   "codemirror_mode": {
    "name": "ipython",
    "version": 3
   },
   "file_extension": ".py",
   "mimetype": "text/x-python",
   "name": "python",
   "nbconvert_exporter": "python",
   "pygments_lexer": "ipython3",
   "version": "3.7.4"
  }
 },
 "nbformat": 4,
 "nbformat_minor": 2
}
