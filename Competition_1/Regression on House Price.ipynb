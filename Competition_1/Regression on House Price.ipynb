{
 "cells": [
  {
   "cell_type": "code",
   "execution_count": 2,
   "metadata": {},
   "outputs": [],
   "source": [
    "from sklearn.ensemble import AdaBoostRegressor\n",
    "from sklearn.tree import DecisionTreeRegressor\n",
    "import pandas as pd\n",
    "import numpy as np\n",
    "from sklearn.model_selection import train_test_split\n",
    "from sklearn.metrics import mean_squared_error"
   ]
  },
  {
   "cell_type": "code",
   "execution_count": 3,
   "metadata": {},
   "outputs": [],
   "source": [
    "train = pd.read_csv(\"train_data.csv\")\n",
    "val = pd.read_csv(\"val_data.csv\")\n",
    "x = train.drop(columns = [\"id\", \"price\", \"date\",train.columns[0]], axis = 1)\n",
    "y = train[\"price\"]\n",
    "x, x_test, y, y_test = train_test_split(x, y, test_size = .25)"
   ]
  },
  {
   "cell_type": "code",
   "execution_count": 4,
   "metadata": {},
   "outputs": [
    {
     "data": {
      "text/html": [
       "<div>\n",
       "<style scoped>\n",
       "    .dataframe tbody tr th:only-of-type {\n",
       "        vertical-align: middle;\n",
       "    }\n",
       "\n",
       "    .dataframe tbody tr th {\n",
       "        vertical-align: top;\n",
       "    }\n",
       "\n",
       "    .dataframe thead th {\n",
       "        text-align: right;\n",
       "    }\n",
       "</style>\n",
       "<table border=\"1\" class=\"dataframe\">\n",
       "  <thead>\n",
       "    <tr style=\"text-align: right;\">\n",
       "      <th></th>\n",
       "      <th>bedrooms</th>\n",
       "      <th>bathrooms</th>\n",
       "      <th>sqft_living</th>\n",
       "      <th>sqft_lot</th>\n",
       "      <th>floors</th>\n",
       "      <th>waterfront</th>\n",
       "      <th>view</th>\n",
       "      <th>condition</th>\n",
       "      <th>grade</th>\n",
       "      <th>sqft_above</th>\n",
       "      <th>sqft_basement</th>\n",
       "      <th>yr_built</th>\n",
       "      <th>yr_renovated</th>\n",
       "      <th>zipcode</th>\n",
       "      <th>lat</th>\n",
       "      <th>long</th>\n",
       "      <th>sqft_living15</th>\n",
       "      <th>sqft_lot15</th>\n",
       "    </tr>\n",
       "  </thead>\n",
       "  <tbody>\n",
       "    <tr>\n",
       "      <td>7136</td>\n",
       "      <td>3</td>\n",
       "      <td>2.00</td>\n",
       "      <td>1670</td>\n",
       "      <td>13775</td>\n",
       "      <td>1.0</td>\n",
       "      <td>0</td>\n",
       "      <td>0</td>\n",
       "      <td>3</td>\n",
       "      <td>8</td>\n",
       "      <td>1670</td>\n",
       "      <td>0</td>\n",
       "      <td>1968</td>\n",
       "      <td>0</td>\n",
       "      <td>98045</td>\n",
       "      <td>47.4873</td>\n",
       "      <td>-121.783</td>\n",
       "      <td>2130</td>\n",
       "      <td>14500</td>\n",
       "    </tr>\n",
       "    <tr>\n",
       "      <td>13514</td>\n",
       "      <td>4</td>\n",
       "      <td>2.25</td>\n",
       "      <td>2230</td>\n",
       "      <td>11200</td>\n",
       "      <td>1.0</td>\n",
       "      <td>0</td>\n",
       "      <td>0</td>\n",
       "      <td>4</td>\n",
       "      <td>7</td>\n",
       "      <td>1300</td>\n",
       "      <td>930</td>\n",
       "      <td>1977</td>\n",
       "      <td>0</td>\n",
       "      <td>98011</td>\n",
       "      <td>47.7691</td>\n",
       "      <td>-122.167</td>\n",
       "      <td>2090</td>\n",
       "      <td>10563</td>\n",
       "    </tr>\n",
       "    <tr>\n",
       "      <td>13306</td>\n",
       "      <td>4</td>\n",
       "      <td>2.75</td>\n",
       "      <td>2620</td>\n",
       "      <td>6019</td>\n",
       "      <td>2.0</td>\n",
       "      <td>0</td>\n",
       "      <td>0</td>\n",
       "      <td>3</td>\n",
       "      <td>8</td>\n",
       "      <td>2620</td>\n",
       "      <td>0</td>\n",
       "      <td>2013</td>\n",
       "      <td>0</td>\n",
       "      <td>98045</td>\n",
       "      <td>47.4840</td>\n",
       "      <td>-121.771</td>\n",
       "      <td>2790</td>\n",
       "      <td>6716</td>\n",
       "    </tr>\n",
       "    <tr>\n",
       "      <td>3504</td>\n",
       "      <td>3</td>\n",
       "      <td>1.75</td>\n",
       "      <td>1590</td>\n",
       "      <td>9620</td>\n",
       "      <td>1.0</td>\n",
       "      <td>0</td>\n",
       "      <td>0</td>\n",
       "      <td>3</td>\n",
       "      <td>7</td>\n",
       "      <td>1590</td>\n",
       "      <td>0</td>\n",
       "      <td>1988</td>\n",
       "      <td>0</td>\n",
       "      <td>98059</td>\n",
       "      <td>47.4815</td>\n",
       "      <td>-122.152</td>\n",
       "      <td>2980</td>\n",
       "      <td>9398</td>\n",
       "    </tr>\n",
       "    <tr>\n",
       "      <td>1015</td>\n",
       "      <td>3</td>\n",
       "      <td>1.75</td>\n",
       "      <td>1840</td>\n",
       "      <td>5101</td>\n",
       "      <td>1.0</td>\n",
       "      <td>0</td>\n",
       "      <td>0</td>\n",
       "      <td>5</td>\n",
       "      <td>7</td>\n",
       "      <td>1040</td>\n",
       "      <td>800</td>\n",
       "      <td>1952</td>\n",
       "      <td>0</td>\n",
       "      <td>98108</td>\n",
       "      <td>47.5585</td>\n",
       "      <td>-122.317</td>\n",
       "      <td>1340</td>\n",
       "      <td>5000</td>\n",
       "    </tr>\n",
       "  </tbody>\n",
       "</table>\n",
       "</div>"
      ],
      "text/plain": [
       "       bedrooms  bathrooms  sqft_living  sqft_lot  floors  waterfront  view  \\\n",
       "7136          3       2.00         1670     13775     1.0           0     0   \n",
       "13514         4       2.25         2230     11200     1.0           0     0   \n",
       "13306         4       2.75         2620      6019     2.0           0     0   \n",
       "3504          3       1.75         1590      9620     1.0           0     0   \n",
       "1015          3       1.75         1840      5101     1.0           0     0   \n",
       "\n",
       "       condition  grade  sqft_above  sqft_basement  yr_built  yr_renovated  \\\n",
       "7136           3      8        1670              0      1968             0   \n",
       "13514          4      7        1300            930      1977             0   \n",
       "13306          3      8        2620              0      2013             0   \n",
       "3504           3      7        1590              0      1988             0   \n",
       "1015           5      7        1040            800      1952             0   \n",
       "\n",
       "       zipcode      lat     long  sqft_living15  sqft_lot15  \n",
       "7136     98045  47.4873 -121.783           2130       14500  \n",
       "13514    98011  47.7691 -122.167           2090       10563  \n",
       "13306    98045  47.4840 -121.771           2790        6716  \n",
       "3504     98059  47.4815 -122.152           2980        9398  \n",
       "1015     98108  47.5585 -122.317           1340        5000  "
      ]
     },
     "execution_count": 4,
     "metadata": {},
     "output_type": "execute_result"
    }
   ],
   "source": [
    "x.head()"
   ]
  },
  {
   "cell_type": "code",
   "execution_count": 5,
   "metadata": {},
   "outputs": [
    {
     "data": {
      "text/plain": [
       "AdaBoostRegressor(base_estimator=DecisionTreeRegressor(criterion='mse',\n",
       "                                                       max_depth=15,\n",
       "                                                       max_features=None,\n",
       "                                                       max_leaf_nodes=None,\n",
       "                                                       min_impurity_decrease=0.0,\n",
       "                                                       min_impurity_split=None,\n",
       "                                                       min_samples_leaf=1,\n",
       "                                                       min_samples_split=2,\n",
       "                                                       min_weight_fraction_leaf=0.0,\n",
       "                                                       presort=False,\n",
       "                                                       random_state=None,\n",
       "                                                       splitter='best'),\n",
       "                  learning_rate=1.0, loss='square', n_estimators=10,\n",
       "                  random_state=0)"
      ]
     },
     "execution_count": 5,
     "metadata": {},
     "output_type": "execute_result"
    }
   ],
   "source": [
    "regr = AdaBoostRegressor(random_state=0, base_estimator=DecisionTreeRegressor(max_depth=15),n_estimators=10, loss = \"square\")\n",
    "regr.fit(x,y)"
   ]
  },
  {
   "cell_type": "code",
   "execution_count": 7,
   "metadata": {},
   "outputs": [
    {
     "name": "stdout",
     "output_type": "stream",
     "text": [
      "Most important feature is  sqft_living\n"
     ]
    }
   ],
   "source": [
    "feature_names= x.columns\n",
    "feature_dict = { feature_names[i]: regr.feature_importances_[i] for i in range(len(feature_names))}\n",
    "print(\"Most important feature is \", max(feature_dict, key=feature_dict.get))"
   ]
  },
  {
   "cell_type": "code",
   "execution_count": 8,
   "metadata": {},
   "outputs": [
    {
     "data": {
      "text/plain": [
       "135972.26509490152"
      ]
     },
     "execution_count": 8,
     "metadata": {},
     "output_type": "execute_result"
    }
   ],
   "source": [
    "y_pred = regr.predict(x_test)\n",
    "np.sqrt(mean_squared_error(y_test, y_pred))\n",
    "# regr.score(x_test, y_test,)"
   ]
  },
  {
   "cell_type": "code",
   "execution_count": null,
   "metadata": {},
   "outputs": [],
   "source": []
  }
 ],
 "metadata": {
  "kernelspec": {
   "display_name": "Python 3",
   "language": "python",
   "name": "python3"
  },
  "language_info": {
   "codemirror_mode": {
    "name": "ipython",
    "version": 3
   },
   "file_extension": ".py",
   "mimetype": "text/x-python",
   "name": "python",
   "nbconvert_exporter": "python",
   "pygments_lexer": "ipython3",
   "version": "3.7.4"
  }
 },
 "nbformat": 4,
 "nbformat_minor": 2
}
