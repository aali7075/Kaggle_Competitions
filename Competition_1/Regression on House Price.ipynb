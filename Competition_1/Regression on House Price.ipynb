{
 "cells": [
  {
   "cell_type": "code",
<<<<<<< HEAD
<<<<<<< HEAD
<<<<<<< HEAD
   "execution_count": 1,
=======
   "execution_count": 42,
>>>>>>> parent of 26427c5... Added a param grid search
=======
   "execution_count": 42,
>>>>>>> parent of 26427c5... Added a param grid search
=======
   "execution_count": 42,
>>>>>>> parent of 26427c5... Added a param grid search
   "metadata": {},
   "outputs": [],
   "source": [
    "from sklearn.ensemble import AdaBoostRegressor\n",
    "from sklearn.tree import DecisionTreeRegressor\n",
    "import pandas as pd\n",
    "import numpy as np\n",
    "from sklearn.model_selection import train_test_split\n",
    "from sklearn.metrics import mean_squared_error"
   ]
  },
  {
   "cell_type": "code",
<<<<<<< HEAD
<<<<<<< HEAD
<<<<<<< HEAD
   "execution_count": 8,
   "metadata": {
    "scrolled": true
   },
=======
=======
>>>>>>> parent of 26427c5... Added a param grid search
=======
>>>>>>> parent of 26427c5... Added a param grid search
   "execution_count": 43,
   "metadata": {},
   "outputs": [],
   "source": [
    "train = pd.read_csv(\"train_data.csv\")\n",
    "val = pd.read_csv(\"val_data.csv\")\n",
    "x = train.drop(columns = [\"id\", \"price\", \"date\",train.columns[0]], axis = 1)\n",
    "y = train[\"price\"]\n",
    "x, x_test, y, y_test = train_test_split(x, y, test_size = .25)"
   ]
  },
  {
   "cell_type": "code",
   "execution_count": 44,
   "metadata": {},
>>>>>>> parent of 26427c5... Added a param grid search
   "outputs": [
    {
     "data": {
      "text/html": [
       "<div>\n",
       "<style scoped>\n",
       "    .dataframe tbody tr th:only-of-type {\n",
       "        vertical-align: middle;\n",
       "    }\n",
       "\n",
       "    .dataframe tbody tr th {\n",
       "        vertical-align: top;\n",
       "    }\n",
       "\n",
       "    .dataframe thead th {\n",
       "        text-align: right;\n",
       "    }\n",
       "</style>\n",
       "<table border=\"1\" class=\"dataframe\">\n",
       "  <thead>\n",
       "    <tr style=\"text-align: right;\">\n",
       "      <th></th>\n",
       "      <th>Unique_idx</th>\n",
       "      <th>id</th>\n",
       "      <th>date</th>\n",
       "      <th>bedrooms</th>\n",
       "      <th>bathrooms</th>\n",
       "      <th>sqft_living</th>\n",
       "      <th>sqft_lot</th>\n",
       "      <th>floors</th>\n",
       "      <th>waterfront</th>\n",
       "      <th>view</th>\n",
       "      <th>...</th>\n",
       "      <th>sqft_above</th>\n",
       "      <th>sqft_basement</th>\n",
       "      <th>yr_built</th>\n",
       "      <th>yr_renovated</th>\n",
       "      <th>zipcode</th>\n",
       "      <th>lat</th>\n",
       "      <th>long</th>\n",
       "      <th>sqft_living15</th>\n",
       "      <th>sqft_lot15</th>\n",
       "      <th>price</th>\n",
       "    </tr>\n",
       "  </thead>\n",
       "  <tbody>\n",
       "    <tr>\n",
<<<<<<< HEAD
<<<<<<< HEAD
<<<<<<< HEAD
       "      <td>0</td>\n",
       "      <td>7291</td>\n",
       "      <td>4058200630</td>\n",
       "      <td>20141002T000000</td>\n",
       "      <td>3</td>\n",
       "      <td>1.75</td>\n",
       "      <td>2190</td>\n",
       "      <td>7021</td>\n",
       "      <td>1.0</td>\n",
       "      <td>0</td>\n",
       "      <td>2</td>\n",
       "      <td>...</td>\n",
       "      <td>1390</td>\n",
       "      <td>800</td>\n",
       "      <td>1953</td>\n",
       "      <td>0</td>\n",
       "      <td>98178</td>\n",
       "      <td>47.5033</td>\n",
       "      <td>-122.232</td>\n",
       "      <td>2180</td>\n",
       "      <td>7155</td>\n",
       "      <td>353000</td>\n",
       "    </tr>\n",
       "    <tr>\n",
       "      <td>1</td>\n",
       "      <td>14835</td>\n",
       "      <td>3613600150</td>\n",
       "      <td>20150105T000000</td>\n",
       "      <td>3</td>\n",
       "      <td>2.50</td>\n",
       "      <td>2370</td>\n",
       "      <td>6840</td>\n",
       "      <td>2.0</td>\n",
=======
       "      <td>10214</td>\n",
       "      <td>9</td>\n",
       "      <td>4.5</td>\n",
       "      <td>3830</td>\n",
       "      <td>6988</td>\n",
       "      <td>2.5</td>\n",
       "      <td>0</td>\n",
       "      <td>0</td>\n",
       "      <td>3</td>\n",
       "      <td>7</td>\n",
       "      <td>2450</td>\n",
       "      <td>1380</td>\n",
       "      <td>1938</td>\n",
       "      <td>0</td>\n",
       "      <td>98103</td>\n",
       "      <td>47.6927</td>\n",
       "      <td>-122.338</td>\n",
       "      <td>1460</td>\n",
       "      <td>6291</td>\n",
       "    </tr>\n",
       "    <tr>\n",
       "      <td>5003</td>\n",
       "      <td>4</td>\n",
       "      <td>2.0</td>\n",
       "      <td>1900</td>\n",
       "      <td>5100</td>\n",
       "      <td>1.0</td>\n",
>>>>>>> parent of 26427c5... Added a param grid search
       "      <td>0</td>\n",
=======
       "      <td>10214</td>\n",
       "      <td>9</td>\n",
       "      <td>4.5</td>\n",
       "      <td>3830</td>\n",
       "      <td>6988</td>\n",
       "      <td>2.5</td>\n",
       "      <td>0</td>\n",
<<<<<<< HEAD
       "      <td>0</td>\n",
       "      <td>3</td>\n",
       "      <td>7</td>\n",
       "      <td>2450</td>\n",
       "      <td>1380</td>\n",
       "      <td>1938</td>\n",
       "      <td>0</td>\n",
       "      <td>98103</td>\n",
       "      <td>47.6927</td>\n",
       "      <td>-122.338</td>\n",
       "      <td>1460</td>\n",
       "      <td>6291</td>\n",
       "    </tr>\n",
       "    <tr>\n",
       "      <td>5003</td>\n",
       "      <td>4</td>\n",
       "      <td>2.0</td>\n",
       "      <td>1900</td>\n",
       "      <td>5100</td>\n",
       "      <td>1.0</td>\n",
>>>>>>> parent of 26427c5... Added a param grid search
=======
       "      <td>3</td>\n",
       "      <td>6</td>\n",
       "      <td>950</td>\n",
       "      <td>950</td>\n",
       "      <td>1914</td>\n",
       "      <td>1973</td>\n",
       "      <td>98117</td>\n",
       "      <td>47.6767</td>\n",
       "      <td>-122.380</td>\n",
       "      <td>1230</td>\n",
       "      <td>5100</td>\n",
       "    </tr>\n",
       "    <tr>\n",
       "      <td>14912</td>\n",
       "      <td>4</td>\n",
       "      <td>1.5</td>\n",
       "      <td>1820</td>\n",
       "      <td>12327</td>\n",
       "      <td>1.0</td>\n",
>>>>>>> parent of 26427c5... Added a param grid search
       "      <td>0</td>\n",
       "      <td>...</td>\n",
       "      <td>2370</td>\n",
       "      <td>0</td>\n",
<<<<<<< HEAD
       "      <td>1987</td>\n",
       "      <td>0</td>\n",
       "      <td>98119</td>\n",
       "      <td>47.6503</td>\n",
       "      <td>-122.366</td>\n",
       "      <td>1590</td>\n",
       "      <td>4400</td>\n",
       "      <td>300523</td>\n",
       "    </tr>\n",
       "    <tr>\n",
       "      <td>2</td>\n",
       "      <td>15880</td>\n",
       "      <td>7170200080</td>\n",
       "      <td>20140617T000000</td>\n",
       "      <td>2</td>\n",
       "      <td>1.00</td>\n",
       "      <td>1230</td>\n",
       "      <td>3800</td>\n",
       "      <td>1.0</td>\n",
       "      <td>0</td>\n",
       "      <td>0</td>\n",
       "      <td>...</td>\n",
       "      <td>1230</td>\n",
       "      <td>0</td>\n",
       "      <td>1928</td>\n",
       "      <td>0</td>\n",
       "      <td>98115</td>\n",
       "      <td>47.6797</td>\n",
       "      <td>-122.292</td>\n",
       "      <td>1610</td>\n",
       "      <td>3800</td>\n",
       "      <td>435000</td>\n",
       "    </tr>\n",
       "    <tr>\n",
       "      <td>3</td>\n",
<<<<<<< HEAD
       "      <td>8812</td>\n",
       "      <td>9542300530</td>\n",
       "      <td>20141124T000000</td>\n",
       "      <td>4</td>\n",
       "      <td>2.25</td>\n",
       "      <td>2510</td>\n",
       "      <td>9963</td>\n",
=======
       "      <td>4</td>\n",
       "      <td>7</td>\n",
       "      <td>1380</td>\n",
       "      <td>440</td>\n",
       "      <td>1955</td>\n",
       "      <td>0</td>\n",
       "      <td>98006</td>\n",
       "      <td>47.5767</td>\n",
       "      <td>-122.144</td>\n",
       "      <td>1450</td>\n",
       "      <td>9256</td>\n",
       "    </tr>\n",
       "    <tr>\n",
       "      <td>4546</td>\n",
       "      <td>3</td>\n",
       "      <td>2.0</td>\n",
       "      <td>1440</td>\n",
       "      <td>9220</td>\n",
>>>>>>> parent of 26427c5... Added a param grid search
       "      <td>1.0</td>\n",
       "      <td>0</td>\n",
       "      <td>0</td>\n",
       "      <td>...</td>\n",
       "      <td>2200</td>\n",
       "      <td>310</td>\n",
       "      <td>1967</td>\n",
       "      <td>0</td>\n",
       "      <td>98005</td>\n",
       "      <td>47.5973</td>\n",
       "      <td>-122.177</td>\n",
       "      <td>3110</td>\n",
       "      <td>9963</td>\n",
       "      <td>800000</td>\n",
       "    </tr>\n",
       "    <tr>\n",
       "      <td>4</td>\n",
       "      <td>17220</td>\n",
       "      <td>3626039028</td>\n",
       "      <td>20140818T000000</td>\n",
       "      <td>3</td>\n",
<<<<<<< HEAD
       "      <td>1.00</td>\n",
       "      <td>1160</td>\n",
       "      <td>7491</td>\n",
       "      <td>1.0</td>\n",
       "      <td>0</td>\n",
       "      <td>0</td>\n",
       "      <td>...</td>\n",
       "      <td>1160</td>\n",
       "      <td>0</td>\n",
       "      <td>1917</td>\n",
       "      <td>0</td>\n",
       "      <td>98177</td>\n",
       "      <td>47.7024</td>\n",
       "      <td>-122.359</td>\n",
       "      <td>1800</td>\n",
       "      <td>2267</td>\n",
       "      <td>417500</td>\n",
=======
       "      <td>10214</td>\n",
       "      <td>9</td>\n",
       "      <td>4.5</td>\n",
       "      <td>3830</td>\n",
       "      <td>6988</td>\n",
       "      <td>2.5</td>\n",
       "      <td>0</td>\n",
       "      <td>0</td>\n",
       "      <td>3</td>\n",
       "      <td>7</td>\n",
       "      <td>2450</td>\n",
       "      <td>1380</td>\n",
       "      <td>1938</td>\n",
       "      <td>0</td>\n",
       "      <td>98103</td>\n",
       "      <td>47.6927</td>\n",
       "      <td>-122.338</td>\n",
       "      <td>1460</td>\n",
       "      <td>6291</td>\n",
       "    </tr>\n",
       "    <tr>\n",
       "      <td>5003</td>\n",
       "      <td>4</td>\n",
       "      <td>2.0</td>\n",
       "      <td>1900</td>\n",
       "      <td>5100</td>\n",
=======
       "      <td>6</td>\n",
       "      <td>950</td>\n",
       "      <td>950</td>\n",
       "      <td>1914</td>\n",
       "      <td>1973</td>\n",
       "      <td>98117</td>\n",
       "      <td>47.6767</td>\n",
       "      <td>-122.380</td>\n",
       "      <td>1230</td>\n",
       "      <td>5100</td>\n",
       "    </tr>\n",
       "    <tr>\n",
       "      <td>14912</td>\n",
       "      <td>4</td>\n",
       "      <td>1.5</td>\n",
       "      <td>1820</td>\n",
       "      <td>12327</td>\n",
>>>>>>> parent of 26427c5... Added a param grid search
       "      <td>1.0</td>\n",
       "      <td>0</td>\n",
       "      <td>0</td>\n",
       "      <td>3</td>\n",
       "      <td>6</td>\n",
       "      <td>950</td>\n",
       "      <td>950</td>\n",
       "      <td>1914</td>\n",
       "      <td>1973</td>\n",
       "      <td>98117</td>\n",
       "      <td>47.6767</td>\n",
       "      <td>-122.380</td>\n",
       "      <td>1230</td>\n",
       "      <td>5100</td>\n",
       "    </tr>\n",
       "    <tr>\n",
       "      <td>14912</td>\n",
       "      <td>4</td>\n",
<<<<<<< HEAD
=======
       "      <td>7</td>\n",
       "      <td>1440</td>\n",
       "      <td>0</td>\n",
       "      <td>1965</td>\n",
       "      <td>0</td>\n",
       "      <td>98198</td>\n",
       "      <td>47.3702</td>\n",
       "      <td>-122.317</td>\n",
       "      <td>1390</td>\n",
       "      <td>7830</td>\n",
       "    </tr>\n",
       "    <tr>\n",
       "      <td>5964</td>\n",
       "      <td>4</td>\n",
       "      <td>3.0</td>\n",
       "      <td>1540</td>\n",
       "      <td>4140</td>\n",
>>>>>>> parent of 26427c5... Added a param grid search
       "      <td>1.5</td>\n",
       "      <td>1820</td>\n",
       "      <td>12327</td>\n",
       "      <td>1.0</td>\n",
       "      <td>0</td>\n",
       "      <td>0</td>\n",
<<<<<<< HEAD
       "      <td>4</td>\n",
=======
>>>>>>> parent of 26427c5... Added a param grid search
       "      <td>7</td>\n",
       "      <td>1380</td>\n",
       "      <td>440</td>\n",
       "      <td>1955</td>\n",
       "      <td>0</td>\n",
       "      <td>98006</td>\n",
       "      <td>47.5767</td>\n",
       "      <td>-122.144</td>\n",
       "      <td>1450</td>\n",
       "      <td>9256</td>\n",
       "    </tr>\n",
       "    <tr>\n",
       "      <td>4546</td>\n",
       "      <td>3</td>\n",
       "      <td>2.0</td>\n",
       "      <td>1440</td>\n",
       "      <td>9220</td>\n",
       "      <td>1.0</td>\n",
       "      <td>0</td>\n",
       "      <td>0</td>\n",
       "      <td>3</td>\n",
       "      <td>7</td>\n",
       "      <td>1440</td>\n",
       "      <td>0</td>\n",
       "      <td>1965</td>\n",
       "      <td>0</td>\n",
       "      <td>98198</td>\n",
       "      <td>47.3702</td>\n",
       "      <td>-122.317</td>\n",
       "      <td>1390</td>\n",
       "      <td>7830</td>\n",
       "    </tr>\n",
       "    <tr>\n",
       "      <td>5964</td>\n",
       "      <td>4</td>\n",
       "      <td>3.0</td>\n",
       "      <td>1540</td>\n",
       "      <td>4140</td>\n",
       "      <td>1.5</td>\n",
       "      <td>0</td>\n",
       "      <td>0</td>\n",
       "      <td>5</td>\n",
       "      <td>7</td>\n",
       "      <td>1540</td>\n",
       "      <td>0</td>\n",
=======
       "      <td>5</td>\n",
       "      <td>7</td>\n",
       "      <td>1540</td>\n",
       "      <td>0</td>\n",
>>>>>>> parent of 26427c5... Added a param grid search
       "      <td>1902</td>\n",
       "      <td>0</td>\n",
       "      <td>98107</td>\n",
       "      <td>47.6728</td>\n",
       "      <td>-122.396</td>\n",
       "      <td>1460</td>\n",
       "      <td>5000</td>\n",
>>>>>>> parent of 26427c5... Added a param grid search
       "    </tr>\n",
       "  </tbody>\n",
       "</table>\n",
       "<p>5 rows × 22 columns</p>\n",
       "</div>"
      ],
      "text/plain": [
<<<<<<< HEAD
       "   Unique_idx          id             date  bedrooms  bathrooms  sqft_living  \\\n",
       "0        7291  4058200630  20141002T000000         3       1.75         2190   \n",
       "1       14835  3613600150  20150105T000000         3       2.50         2370   \n",
       "2       15880  7170200080  20140617T000000         2       1.00         1230   \n",
       "3        8812  9542300530  20141124T000000         4       2.25         2510   \n",
       "4       17220  3626039028  20140818T000000         3       1.00         1160   \n",
       "\n",
       "   sqft_lot  floors  waterfront  view  ...  sqft_above  sqft_basement  \\\n",
       "0      7021     1.0           0     2  ...        1390            800   \n",
       "1      6840     2.0           0     0  ...        2370              0   \n",
       "2      3800     1.0           0     0  ...        1230              0   \n",
       "3      9963     1.0           0     0  ...        2200            310   \n",
       "4      7491     1.0           0     0  ...        1160              0   \n",
       "\n",
       "   yr_built  yr_renovated  zipcode      lat     long  sqft_living15  \\\n",
       "0      1953             0    98178  47.5033 -122.232           2180   \n",
       "1      1987             0    98119  47.6503 -122.366           1590   \n",
       "2      1928             0    98115  47.6797 -122.292           1610   \n",
       "3      1967             0    98005  47.5973 -122.177           3110   \n",
       "4      1917             0    98177  47.7024 -122.359           1800   \n",
       "\n",
       "   sqft_lot15   price  \n",
       "0        7155  353000  \n",
       "1        4400  300523  \n",
       "2        3800  435000  \n",
       "3        9963  800000  \n",
       "4        2267  417500  \n",
       "\n",
       "[5 rows x 22 columns]"
      ]
     },
     "execution_count": 8,
=======
       "       bedrooms  bathrooms  sqft_living  sqft_lot  floors  waterfront  view  \\\n",
       "10214         9        4.5         3830      6988     2.5           0     0   \n",
       "5003          4        2.0         1900      5100     1.0           0     0   \n",
       "14912         4        1.5         1820     12327     1.0           0     0   \n",
       "4546          3        2.0         1440      9220     1.0           0     0   \n",
       "5964          4        3.0         1540      4140     1.5           0     0   \n",
       "\n",
       "       condition  grade  sqft_above  sqft_basement  yr_built  yr_renovated  \\\n",
       "10214          3      7        2450           1380      1938             0   \n",
       "5003           3      6         950            950      1914          1973   \n",
       "14912          4      7        1380            440      1955             0   \n",
       "4546           3      7        1440              0      1965             0   \n",
       "5964           5      7        1540              0      1902             0   \n",
       "\n",
       "       zipcode      lat     long  sqft_living15  sqft_lot15  \n",
       "10214    98103  47.6927 -122.338           1460        6291  \n",
       "5003     98117  47.6767 -122.380           1230        5100  \n",
       "14912    98006  47.5767 -122.144           1450        9256  \n",
       "4546     98198  47.3702 -122.317           1390        7830  \n",
       "5964     98107  47.6728 -122.396           1460        5000  "
      ]
     },
     "execution_count": 44,
<<<<<<< HEAD
<<<<<<< HEAD
>>>>>>> parent of 26427c5... Added a param grid search
=======
>>>>>>> parent of 26427c5... Added a param grid search
=======
>>>>>>> parent of 26427c5... Added a param grid search
     "metadata": {},
     "output_type": "execute_result"
    }
   ],
   "source": [
<<<<<<< HEAD
    "train = pd.read_csv(\"train_data.csv\")\n",
    "val = pd.read_csv(\"val_data.csv\")\n",
    "x = train.drop(columns = [\"price\", \"date\"], axis = 1)\n",
    "y = train[\"price\"]\n",
    "x, x_test, y, y_test = train_test_split(x, y, test_size = .25)\n",
    "train.head()"
=======
    "x.head()"
>>>>>>> parent of 26427c5... Added a param grid search
   ]
  },
  {
   "cell_type": "code",
<<<<<<< HEAD
<<<<<<< HEAD
<<<<<<< HEAD
   "execution_count": 3,
=======
   "execution_count": 58,
>>>>>>> parent of 26427c5... Added a param grid search
=======
   "execution_count": 58,
>>>>>>> parent of 26427c5... Added a param grid search
=======
   "execution_count": 58,
>>>>>>> parent of 26427c5... Added a param grid search
   "metadata": {},
   "outputs": [
    {
     "data": {
<<<<<<< HEAD
<<<<<<< HEAD
      "text/html": [
       "<div>\n",
       "<style scoped>\n",
       "    .dataframe tbody tr th:only-of-type {\n",
       "        vertical-align: middle;\n",
       "    }\n",
       "\n",
       "    .dataframe tbody tr th {\n",
       "        vertical-align: top;\n",
       "    }\n",
       "\n",
       "    .dataframe thead th {\n",
       "        text-align: right;\n",
       "    }\n",
       "</style>\n",
       "<table border=\"1\" class=\"dataframe\">\n",
       "  <thead>\n",
       "    <tr style=\"text-align: right;\">\n",
       "      <th></th>\n",
       "      <th>bedrooms</th>\n",
       "      <th>bathrooms</th>\n",
       "      <th>sqft_living</th>\n",
       "      <th>sqft_lot</th>\n",
       "      <th>floors</th>\n",
       "      <th>waterfront</th>\n",
       "      <th>view</th>\n",
       "      <th>condition</th>\n",
       "      <th>grade</th>\n",
       "      <th>sqft_above</th>\n",
       "      <th>sqft_basement</th>\n",
       "      <th>yr_built</th>\n",
       "      <th>yr_renovated</th>\n",
       "      <th>zipcode</th>\n",
       "      <th>lat</th>\n",
       "      <th>long</th>\n",
       "      <th>sqft_living15</th>\n",
       "      <th>sqft_lot15</th>\n",
       "    </tr>\n",
       "  </thead>\n",
       "  <tbody>\n",
       "    <tr>\n",
       "      <td>2800</td>\n",
       "      <td>3</td>\n",
       "      <td>2.00</td>\n",
       "      <td>1970</td>\n",
       "      <td>3420</td>\n",
       "      <td>2.0</td>\n",
       "      <td>0</td>\n",
       "      <td>3</td>\n",
       "      <td>5</td>\n",
       "      <td>8</td>\n",
       "      <td>1970</td>\n",
       "      <td>0</td>\n",
       "      <td>1913</td>\n",
       "      <td>0</td>\n",
       "      <td>98103</td>\n",
       "      <td>47.6762</td>\n",
       "      <td>-122.354</td>\n",
       "      <td>1770</td>\n",
       "      <td>3420</td>\n",
       "    </tr>\n",
       "    <tr>\n",
       "      <td>14457</td>\n",
       "      <td>3</td>\n",
       "      <td>1.50</td>\n",
       "      <td>1340</td>\n",
       "      <td>7912</td>\n",
       "      <td>1.5</td>\n",
       "      <td>0</td>\n",
       "      <td>0</td>\n",
       "      <td>3</td>\n",
       "      <td>7</td>\n",
       "      <td>1340</td>\n",
       "      <td>0</td>\n",
       "      <td>1955</td>\n",
       "      <td>0</td>\n",
       "      <td>98133</td>\n",
       "      <td>47.7658</td>\n",
       "      <td>-122.339</td>\n",
       "      <td>1480</td>\n",
       "      <td>7940</td>\n",
       "    </tr>\n",
       "    <tr>\n",
       "      <td>9277</td>\n",
       "      <td>3</td>\n",
       "      <td>1.50</td>\n",
       "      <td>1760</td>\n",
       "      <td>4880</td>\n",
       "      <td>1.5</td>\n",
       "      <td>0</td>\n",
       "      <td>3</td>\n",
       "      <td>3</td>\n",
       "      <td>8</td>\n",
       "      <td>1290</td>\n",
       "      <td>470</td>\n",
       "      <td>1928</td>\n",
       "      <td>0</td>\n",
       "      <td>98136</td>\n",
       "      <td>47.5334</td>\n",
       "      <td>-122.388</td>\n",
       "      <td>1840</td>\n",
       "      <td>4998</td>\n",
       "    </tr>\n",
       "    <tr>\n",
       "      <td>2549</td>\n",
       "      <td>3</td>\n",
       "      <td>2.00</td>\n",
       "      <td>1790</td>\n",
       "      <td>32379</td>\n",
       "      <td>1.0</td>\n",
       "      <td>0</td>\n",
       "      <td>0</td>\n",
       "      <td>3</td>\n",
       "      <td>7</td>\n",
       "      <td>1790</td>\n",
       "      <td>0</td>\n",
       "      <td>2007</td>\n",
       "      <td>0</td>\n",
       "      <td>98045</td>\n",
       "      <td>47.4826</td>\n",
       "      <td>-121.698</td>\n",
       "      <td>2290</td>\n",
       "      <td>43560</td>\n",
       "    </tr>\n",
       "    <tr>\n",
       "      <td>10185</td>\n",
       "      <td>4</td>\n",
       "      <td>2.75</td>\n",
       "      <td>2260</td>\n",
       "      <td>7209</td>\n",
       "      <td>1.0</td>\n",
       "      <td>0</td>\n",
       "      <td>3</td>\n",
       "      <td>3</td>\n",
       "      <td>7</td>\n",
       "      <td>1330</td>\n",
       "      <td>930</td>\n",
       "      <td>2002</td>\n",
       "      <td>0</td>\n",
       "      <td>98125</td>\n",
       "      <td>47.7088</td>\n",
       "      <td>-122.302</td>\n",
       "      <td>1790</td>\n",
       "      <td>10860</td>\n",
       "    </tr>\n",
       "  </tbody>\n",
       "</table>\n",
       "</div>"
      ],
      "text/plain": [
<<<<<<< HEAD
       "       bedrooms  bathrooms  sqft_living  sqft_lot  floors  waterfront  view  \\\n",
       "2800          3       2.00         1970      3420     2.0           0     3   \n",
       "14457         3       1.50         1340      7912     1.5           0     0   \n",
       "9277          3       1.50         1760      4880     1.5           0     3   \n",
       "2549          3       2.00         1790     32379     1.0           0     0   \n",
       "10185         4       2.75         2260      7209     1.0           0     3   \n",
       "\n",
       "       condition  grade  sqft_above  sqft_basement  yr_built  yr_renovated  \\\n",
       "2800           5      8        1970              0      1913             0   \n",
       "14457          3      7        1340              0      1955             0   \n",
       "9277           3      8        1290            470      1928             0   \n",
       "2549           3      7        1790              0      2007             0   \n",
       "10185          3      7        1330            930      2002             0   \n",
       "\n",
       "       zipcode      lat     long  sqft_living15  sqft_lot15  \n",
       "2800     98103  47.6762 -122.354           1770        3420  \n",
       "14457    98133  47.7658 -122.339           1480        7940  \n",
       "9277     98136  47.5334 -122.388           1840        4998  \n",
       "2549     98045  47.4826 -121.698           2290       43560  \n",
       "10185    98125  47.7088 -122.302           1790       10860  "
      ]
     },
     "execution_count": 3,
=======
=======
=======
>>>>>>> parent of 26427c5... Added a param grid search
      "text/plain": [
>>>>>>> parent of 26427c5... Added a param grid search
       "AdaBoostRegressor(base_estimator=DecisionTreeRegressor(criterion='mse',\n",
       "                                                       max_depth=15,\n",
       "                                                       max_features=None,\n",
       "                                                       max_leaf_nodes=None,\n",
       "                                                       min_impurity_decrease=0.0,\n",
       "                                                       min_impurity_split=None,\n",
       "                                                       min_samples_leaf=1,\n",
       "                                                       min_samples_split=2,\n",
       "                                                       min_weight_fraction_leaf=0.0,\n",
       "                                                       presort=False,\n",
       "                                                       random_state=None,\n",
       "                                                       splitter='best'),\n",
       "                  learning_rate=1.0, loss='square', n_estimators=10,\n",
       "                  random_state=0)"
      ]
     },
     "execution_count": 58,
<<<<<<< HEAD
<<<<<<< HEAD
>>>>>>> parent of 26427c5... Added a param grid search
=======
>>>>>>> parent of 26427c5... Added a param grid search
=======
>>>>>>> parent of 26427c5... Added a param grid search
     "metadata": {},
     "output_type": "execute_result"
    }
   ],
   "source": [
<<<<<<< HEAD
<<<<<<< HEAD
<<<<<<< HEAD
    "x.head()"
   ]
  },
  {
   "cell_type": "code",
   "execution_count": 7,
   "metadata": {},
   "outputs": [
    {
     "data": {
      "text/plain": [
       "AdaBoostRegressor(base_estimator=DecisionTreeRegressor(criterion='mse',\n",
       "                                                       max_depth=15,\n",
       "                                                       max_features=None,\n",
       "                                                       max_leaf_nodes=None,\n",
       "                                                       min_impurity_decrease=0.0,\n",
       "                                                       min_impurity_split=None,\n",
       "                                                       min_samples_leaf=1,\n",
       "                                                       min_samples_split=2,\n",
       "                                                       min_weight_fraction_leaf=0.0,\n",
       "                                                       presort=False,\n",
       "                                                       random_state=None,\n",
       "                                                       splitter='best'),\n",
       "                  learning_rate=1.0, loss='square', n_estimators=10,\n",
       "                  random_state=0)"
      ]
     },
     "execution_count": 7,
     "metadata": {},
     "output_type": "execute_result"
    }
   ],
   "source": [
=======
>>>>>>> parent of 26427c5... Added a param grid search
=======
>>>>>>> parent of 26427c5... Added a param grid search
=======
>>>>>>> parent of 26427c5... Added a param grid search
    "regr = AdaBoostRegressor(random_state=0, base_estimator=DecisionTreeRegressor(max_depth=15),n_estimators=10, loss = \"square\")\n",
    "regr.fit(x,y)"
   ]
  },
  {
   "cell_type": "code",
<<<<<<< HEAD
<<<<<<< HEAD
<<<<<<< HEAD
   "execution_count": 7,
=======
   "execution_count": 59,
>>>>>>> parent of 26427c5... Added a param grid search
=======
   "execution_count": 59,
>>>>>>> parent of 26427c5... Added a param grid search
=======
   "execution_count": 59,
>>>>>>> parent of 26427c5... Added a param grid search
   "metadata": {},
   "outputs": [
    {
     "name": "stdout",
     "output_type": "stream",
     "text": [
      "Most important feature is  sqft_living\n"
     ]
    }
   ],
   "source": [
    "feature_names= x.columns\n",
    "feature_dict = { feature_names[i]: regr.feature_importances_[i] for i in range(len(feature_names))}\n",
    "print(\"Most important feature is \", max(feature_dict, key=feature_dict.get))"
   ]
  },
  {
   "cell_type": "code",
<<<<<<< HEAD
<<<<<<< HEAD
<<<<<<< HEAD
   "execution_count": 8,
=======
   "execution_count": 62,
>>>>>>> parent of 26427c5... Added a param grid search
=======
   "execution_count": 62,
>>>>>>> parent of 26427c5... Added a param grid search
=======
   "execution_count": 62,
>>>>>>> parent of 26427c5... Added a param grid search
   "metadata": {},
   "outputs": [
    {
     "data": {
      "text/plain": [
<<<<<<< HEAD
<<<<<<< HEAD
<<<<<<< HEAD
       "135972.26509490152"
      ]
     },
     "execution_count": 8,
=======
=======
>>>>>>> parent of 26427c5... Added a param grid search
=======
>>>>>>> parent of 26427c5... Added a param grid search
       "135742.63315062452"
      ]
     },
     "execution_count": 62,
<<<<<<< HEAD
<<<<<<< HEAD
>>>>>>> parent of 26427c5... Added a param grid search
=======
>>>>>>> parent of 26427c5... Added a param grid search
=======
>>>>>>> parent of 26427c5... Added a param grid search
     "metadata": {},
     "output_type": "execute_result"
    }
   ],
   "source": [
    "y_pred = regr.predict(x_test)\n",
    "np.sqrt(mean_squared_error(y_test, y_pred))\n",
    "# regr.score(x_test, y_test,)"
   ]
  },
  {
   "cell_type": "code",
   "execution_count": null,
   "metadata": {},
   "outputs": [],
   "source": []
  }
 ],
 "metadata": {
  "kernelspec": {
   "display_name": "Python 3",
   "language": "python",
   "name": "python3"
  },
  "language_info": {
   "codemirror_mode": {
    "name": "ipython",
    "version": 3
   },
   "file_extension": ".py",
   "mimetype": "text/x-python",
   "name": "python",
   "nbconvert_exporter": "python",
   "pygments_lexer": "ipython3",
   "version": "3.7.4"
  }
 },
 "nbformat": 4,
 "nbformat_minor": 2
}
